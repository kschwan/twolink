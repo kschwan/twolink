{
 "cells": [
  {
   "cell_type": "markdown",
   "metadata": {},
   "source": [
    "# Two-link planar manipulator"
   ]
  },
  {
   "cell_type": "markdown",
   "metadata": {},
   "source": [
    "Robot model diagram:\n",
    "![diagram](diagram.png)\n",
    "\n",
    "\\begin{align*}\n",
    "a_1 = a_2 &= 1 \\, m \\\\\n",
    "l_1 = l_2 &= 0.5 \\, m \\\\\n",
    "m_{l_1} = m_{l_2} &= 50 \\, kg \\\\\n",
    "I_{l_1} = I_{l_2} &= 10 \\, kgm^2 \\\\\n",
    "m_{m_1} = m_{m_2} &= 5 \\, kg \\\\\n",
    "I_{m_1} = I_{m_2} &= 0.01 \\, kgm^2\n",
    "\\end{align*}"
   ]
  },
  {
   "cell_type": "markdown",
   "metadata": {},
   "source": [
    "First, set up SymPy symbols and a dictionary containing their numerical values"
   ]
  },
  {
   "cell_type": "code",
   "execution_count": 1,
   "metadata": {},
   "outputs": [],
   "source": [
    "import sympy as sym\n",
    "from sympy.physics.vector import init_vprinting, dynamicsymbols\n",
    "init_vprinting()"
   ]
  },
  {
   "cell_type": "code",
   "execution_count": 2,
   "metadata": {
    "scrolled": false
   },
   "outputs": [],
   "source": [
    "t = dynamicsymbols._t\n",
    "theta1, theta2 = dynamicsymbols('vartheta_1, vartheta_2')\n",
    "theta1d, theta2d = dynamicsymbols('vartheta_1, vartheta_2', 1)\n",
    "theta1dd, theta2dd = dynamicsymbols('vartheta_1, vartheta_2', 2)\n",
    "tau1, tau2 = dynamicsymbols('tau_1, tau_2')\n",
    "l1, l2 = sym.symbols('l_1, l_2', real=True)\n",
    "a1, a2 = sym.symbols('a_1, a_2', real=True)\n",
    "ml1, ml2 = sym.symbols('m_{l_1}, m_{l_2}', real=True)\n",
    "xyz = ('x', 'y', 'z')\n",
    "Il1 = sym.Matrix(3, 3, lambda i,j: sym.var('I_{1_{%s%s}}'%(xyz[i], xyz[j])) if i==j else 0)\n",
    "Il2 = sym.Matrix(3, 3, lambda i,j: sym.var('I_{2_{%s%s}}'%(xyz[i], xyz[j])) if i==j else 0)\n",
    "q = sym.Matrix([theta1, theta2])\n",
    "gx, gy, gz = [sym.Symbol('g_{}'.format(i)) for i in xyz]\n",
    "g = sym.Matrix([gx, gy, gz])\n",
    "qd = sym.Matrix([theta1d, theta2d])\n",
    "qdd = sym.Matrix([theta1dd, theta2dd])\n",
    "tau = sym.Matrix([tau1, tau2])"
   ]
  },
  {
   "cell_type": "code",
   "execution_count": 3,
   "metadata": {
    "scrolled": false
   },
   "outputs": [],
   "source": [
    "numeric_values = {\n",
    "    a1: 1,\n",
    "    a2: 1,\n",
    "    l1: 0.5,\n",
    "    l2: 0.5,\n",
    "    ml1: 50,\n",
    "    ml2: 50,\n",
    "}\n",
    "numeric_values.update({x: 10 for x in [Il1[i,i] for i in range(3)]})\n",
    "numeric_values.update({x: 10 for x in [Il2[i,i] for i in range(3)]})\n",
    "numeric_values.update(dict(zip(g, [0, 9.82, 0])))"
   ]
  },
  {
   "cell_type": "markdown",
   "metadata": {},
   "source": [
    "## Kinematics\n",
    "Frame transformations:"
   ]
  },
  {
   "cell_type": "code",
   "execution_count": 4,
   "metadata": {
    "scrolled": false
   },
   "outputs": [],
   "source": [
    "def Rz(a):\n",
    "    return sym.Matrix([[sym.cos(a), -sym.sin(a), 0],\n",
    "                       [sym.sin(a), sym.cos(a),  0],\n",
    "                       [0,          0,           1]])\n",
    "\n",
    "T01 = sym.eye(4); T01[:3,:3] = Rz(theta1)\n",
    "T12 = sym.eye(4); T12[:3,:3] = Rz(theta2); T12[0,3] = a1\n",
    "T23 = sym.eye(4); T23[0,3] = a2\n",
    "\n",
    "T1com1 = sym.eye(4); T1com1[0,3] = l1\n",
    "T2com2 = sym.eye(4); T2com2[0,3] = l2\n",
    "\n",
    "T02 = sym.simplify(T01 * T12)\n",
    "T03 = sym.simplify(T02 * T23)\n",
    "T0com1 = sym.simplify(T01 * T1com1)\n",
    "T0com2 = sym.simplify(T02 * T2com2)"
   ]
  },
  {
   "cell_type": "markdown",
   "metadata": {},
   "source": [
    "Angular velocities in each frame wrt. itself:"
   ]
  },
  {
   "cell_type": "code",
   "execution_count": 5,
   "metadata": {
    "scrolled": true
   },
   "outputs": [],
   "source": [
    "omega1 = sym.Matrix([0, 0, sym.diff(theta1)])\n",
    "omega2 = T12[:3,:3].T * omega1 + sym.Matrix([0, 0, sym.diff(theta2)])\n",
    "omega3 = T23[:3,:3].T * omega2 # + Matrix([0, 0, 0])\n",
    "omega_com1 = T1com1[:3,:3].T * omega1 # + Matrix([0, 0, 0])\n",
    "omega_com2 = T2com2[:3,:3].T * omega2 # + Matrix([0, 0, 0])"
   ]
  },
  {
   "cell_type": "markdown",
   "metadata": {},
   "source": [
    "Linear velocities in each frame wrt. itself:"
   ]
  },
  {
   "cell_type": "code",
   "execution_count": 6,
   "metadata": {
    "scrolled": true
   },
   "outputs": [],
   "source": [
    "v1 = sym.Matrix([0, 0, 0])\n",
    "v2 = T12[:3,:3].T * (v1 + omega1.cross(T12[:3,3]))\n",
    "v3 = T23[:3,:3].T * (v2 + omega2.cross(T23[:3,3]))\n",
    "v_com1 = T1com1[:3,:3].T * (v1 + omega1.cross(T1com1[:3,3]))\n",
    "v_com2 = T2com2[:3,:3].T * (v2 + omega2.cross(T2com2[:3,3]))"
   ]
  },
  {
   "cell_type": "markdown",
   "metadata": {},
   "source": [
    "Jacobian matrices for COM frames:"
   ]
  },
  {
   "cell_type": "code",
   "execution_count": 7,
   "metadata": {
    "scrolled": true
   },
   "outputs": [],
   "source": [
    "Jcom1_upper = T0com1[:3,3].jacobian((theta1, theta2))\n",
    "Jcom1 = sym.Matrix([Jcom1_upper, (0,0),(0,0),(1,0)])\n",
    "Jcom2_upper = T0com2[:3,3].jacobian((theta1, theta2))\n",
    "Jcom2 = sym.Matrix([Jcom2_upper, (0,0),(0,0),(1,1)])"
   ]
  },
  {
   "cell_type": "code",
   "execution_count": 8,
   "metadata": {},
   "outputs": [
    {
     "data": {
      "image/png": "[encoded data removed]",
      "text/latex": [
       "$$\\left[\\begin{matrix}- l_{1} \\operatorname{sin}\\left(\\vartheta_{1}\\right) & 0\\\\l_{1} \\operatorname{cos}\\left(\\vartheta_{1}\\right) & 0\\\\0 & 0\\\\0 & 0\\\\0 & 0\\\\1 & 0\\end{matrix}\\right]$$"
      ],
      "text/plain": [
       "⎡-l₁⋅sin(vartheta₁)  0⎤\n",
       "⎢                     ⎥\n",
       "⎢l₁⋅cos(vartheta₁)   0⎥\n",
       "⎢                     ⎥\n",
       "⎢        0           0⎥\n",
       "⎢                     ⎥\n",
       "⎢        0           0⎥\n",
       "⎢                     ⎥\n",
       "⎢        0           0⎥\n",
       "⎢                     ⎥\n",
       "⎣        1           0⎦"
      ]
     },
     "execution_count": 8,
     "metadata": {},
     "output_type": "execute_result"
    }
   ],
   "source": [
    "Jcom1"
   ]
  },
  {
   "cell_type": "code",
   "execution_count": 9,
   "metadata": {
    "scrolled": false
   },
   "outputs": [
    {
     "data": {
      "image/png": "[encoded data removed]",
      "text/latex": [
       "$$\\left[\\begin{matrix}- a_{1} \\operatorname{sin}\\left(\\vartheta_{1}\\right) - l_{2} \\operatorname{sin}\\left(\\vartheta_{1} + \\vartheta_{2}\\right) & - l_{2} \\operatorname{sin}\\left(\\vartheta_{1} + \\vartheta_{2}\\right)\\\\a_{1} \\operatorname{cos}\\left(\\vartheta_{1}\\right) + l_{2} \\operatorname{cos}\\left(\\vartheta_{1} + \\vartheta_{2}\\right) & l_{2} \\operatorname{cos}\\left(\\vartheta_{1} + \\vartheta_{2}\\right)\\\\0 & 0\\\\0 & 0\\\\0 & 0\\\\1 & 1\\end{matrix}\\right]$$"
      ],
      "text/plain": [
       "⎡-a₁⋅sin(vartheta₁) - l₂⋅sin(vartheta₁ + vartheta₂)  -l₂⋅sin(vartheta₁ + varth\n",
       "⎢                                                                             \n",
       "⎢a₁⋅cos(vartheta₁) + l₂⋅cos(vartheta₁ + vartheta₂)   l₂⋅cos(vartheta₁ + varthe\n",
       "⎢                                                                             \n",
       "⎢                        0                                         0          \n",
       "⎢                                                                             \n",
       "⎢                        0                                         0          \n",
       "⎢                                                                             \n",
       "⎢                        0                                         0          \n",
       "⎢                                                                             \n",
       "⎣                        1                                         1          \n",
       "\n",
       "eta₂)⎤\n",
       "     ⎥\n",
       "ta₂) ⎥\n",
       "     ⎥\n",
       "     ⎥\n",
       "     ⎥\n",
       "     ⎥\n",
       "     ⎥\n",
       "     ⎥\n",
       "     ⎥\n",
       "     ⎦"
      ]
     },
     "execution_count": 9,
     "metadata": {},
     "output_type": "execute_result"
    }
   ],
   "source": [
    "Jcom2"
   ]
  },
  {
   "cell_type": "markdown",
   "metadata": {},
   "source": [
    "Which is the same as the velocity of frame \"com2\" seen wrt. frame \"0\":"
   ]
  },
  {
   "cell_type": "code",
   "execution_count": 10,
   "metadata": {},
   "outputs": [
    {
     "data": {
      "image/png": "[encoded data removed]",
      "text/latex": [
       "$$\\left[\\begin{matrix}- a_{1} \\operatorname{sin}\\left(\\vartheta_{1}\\right) \\dot{\\vartheta}_{1} - l_{2} \\operatorname{sin}\\left(\\vartheta_{1} + \\vartheta_{2}\\right) \\dot{\\vartheta}_{1} - l_{2} \\operatorname{sin}\\left(\\vartheta_{1} + \\vartheta_{2}\\right) \\dot{\\vartheta}_{2}\\\\a_{1} \\operatorname{cos}\\left(\\vartheta_{1}\\right) \\dot{\\vartheta}_{1} + l_{2} \\operatorname{cos}\\left(\\vartheta_{1} + \\vartheta_{2}\\right) \\dot{\\vartheta}_{1} + l_{2} \\operatorname{cos}\\left(\\vartheta_{1} + \\vartheta_{2}\\right) \\dot{\\vartheta}_{2}\\\\0\\end{matrix}\\right]$$"
      ],
      "text/plain": [
       "⎡-a₁⋅sin(vartheta₁)⋅vartḣeta₁ - l₂⋅sin(vartheta₁ + vartheta₂)⋅vartḣeta₁ - l₂\n",
       "⎢                                                                             \n",
       "⎢a₁⋅cos(vartheta₁)⋅vartḣeta₁ + l₂⋅cos(vartheta₁ + vartheta₂)⋅vartḣeta₁ + l₂⋅\n",
       "⎢                                                                             \n",
       "⎣                                                         0                   \n",
       "\n",
       "⋅sin(vartheta₁ + vartheta₂)⋅vartḣeta₂⎤\n",
       "                                      ⎥\n",
       "cos(vartheta₁ + vartheta₂)⋅vartḣeta₂ ⎥\n",
       "                                      ⎥\n",
       "                                      ⎦"
      ]
     },
     "execution_count": 10,
     "metadata": {},
     "output_type": "execute_result"
    }
   ],
   "source": [
    "sym.simplify(T0com2[:3,:3] * v_com2)"
   ]
  },
  {
   "cell_type": "markdown",
   "metadata": {},
   "source": [
    "Singularities:"
   ]
  },
  {
   "cell_type": "code",
   "execution_count": 11,
   "metadata": {
    "scrolled": true
   },
   "outputs": [
    {
     "data": {
      "image/png": "[encoded data removed]",
      "text/latex": [
       "$$a_{1} l_{2} \\operatorname{sin}\\left(\\vartheta_{2}\\right)$$"
      ],
      "text/plain": [
       "a₁⋅l₂⋅sin(vartheta₂)"
      ]
     },
     "execution_count": 11,
     "metadata": {},
     "output_type": "execute_result"
    }
   ],
   "source": [
    "detJcom2 = sym.simplify(sym.det(Jcom2[:2,:2]))\n",
    "detJcom2"
   ]
  },
  {
   "cell_type": "code",
   "execution_count": 12,
   "metadata": {
    "scrolled": true
   },
   "outputs": [
    {
     "data": {
      "image/png": "[encoded data removed]",
      "text/latex": [
       "$$\\left [ 0, \\quad \\pi\\right ]$$"
      ],
      "text/plain": [
       "[0, π]"
      ]
     },
     "execution_count": 12,
     "metadata": {},
     "output_type": "execute_result"
    }
   ],
   "source": [
    "sym.solve(detJcom2, (theta2))"
   ]
  },
  {
   "cell_type": "markdown",
   "metadata": {},
   "source": [
    "## Lagrangian\n",
    "\n",
    "The Lagrangian is defined as\n",
    "$$\n",
    "\\mathcal{L}(q,\\dot{q}) = T(q,\\dot{q}) - V(q)\n",
    "$$\n",
    "\n",
    "### Kinetic energy\n",
    "$T$ is the kinetic energy function on the form\n",
    "$$\n",
    "T(q,\\dot{q}) = \\frac{1}{2} \\dot{q}^T M(q) \\dot{q}\n",
    "$$"
   ]
  },
  {
   "cell_type": "markdown",
   "metadata": {},
   "source": [
    "#### Inertia matrix, $M(q)$\n",
    "$$\n",
    "M(q) = \\sum_{i=1}^n \\left( m_i J_{v_i}^T J_{v_i} + J_{\\omega_i}^T R_i I_i R_i^T J_{\\omega_i} \\right)\n",
    "$$\n",
    "where $J_{v_i}$ and $J_{\\omega_i}$ are Jacobian matrices. $M$ is symmetric and positive definite for each $q \\in \\mathbb{R}^n$."
   ]
  },
  {
   "cell_type": "code",
   "execution_count": 13,
   "metadata": {
    "scrolled": false
   },
   "outputs": [
    {
     "data": {
      "image/png": "[encoded data removed]",
      "text/latex": [
       "$$\\left[\\begin{matrix}I_{1_{zz}} + I_{2_{zz}} + a_{1}^{2} m_{l_2} + 2 a_{1} l_{2} m_{l_2} \\operatorname{cos}\\left(\\vartheta_{2}\\right) + l_{1}^{2} m_{l_1} + l_{2}^{2} m_{l_2} & I_{2_{zz}} + a_{1} l_{2} m_{l_2} \\operatorname{cos}\\left(\\vartheta_{2}\\right) + l_{2}^{2} m_{l_2}\\\\I_{2_{zz}} + a_{1} l_{2} m_{l_2} \\operatorname{cos}\\left(\\vartheta_{2}\\right) + l_{2}^{2} m_{l_2} & I_{2_{zz}} + l_{2}^{2} m_{l_2}\\end{matrix}\\right]$$"
      ],
      "text/plain": [
       "⎡                            2                                              2 \n",
       "⎢I_{1_{zz}} + I_{2_{zz}} + a₁ ⋅m_{l_2} + 2⋅a₁⋅l₂⋅m_{l_2}⋅cos(vartheta₂) + l₁ ⋅\n",
       "⎢                                                                             \n",
       "⎢                                                                   2         \n",
       "⎣                     I_{2_{zz}} + a₁⋅l₂⋅m_{l_2}⋅cos(vartheta₂) + l₂ ⋅m_{l_2} \n",
       "\n",
       "            2                                                        2        \n",
       "m_{l_1} + l₂ ⋅m_{l_2}  I_{2_{zz}} + a₁⋅l₂⋅m_{l_2}⋅cos(vartheta₂) + l₂ ⋅m_{l_2}\n",
       "                                                                              \n",
       "                                                     2                        \n",
       "                                      I_{2_{zz}} + l₂ ⋅m_{l_2}                \n",
       "\n",
       "⎤\n",
       "⎥\n",
       "⎥\n",
       "⎥\n",
       "⎦"
      ]
     },
     "execution_count": 13,
     "metadata": {},
     "output_type": "execute_result"
    }
   ],
   "source": [
    "t1v = ml1 * Jcom1[:3,:].T * Jcom1[:3,:]\n",
    "t1w = Jcom1[3:,:].T * T0com1[:3,:3] * Il1 * T0com1[:3,:3].T * Jcom1[3:,:]\n",
    "\n",
    "t2v = ml2 * Jcom2[:3,:].T * Jcom2[:3,:]\n",
    "t2w = Jcom2[3:,:].T * T0com2[:3,:3] * Il2 * T0com2[:3,:3].T * Jcom2[3:,:]\n",
    "\n",
    "# Quadratic equation on matrix form\n",
    "Mtmp = sym.simplify(qd.T * (t1v + t1w + t2v + t2w) * qd)\n",
    "ce = sym.simplify(sym.collect(Mtmp[0,0], [theta1d**2, theta1d*theta2d, theta2d**2], exact=True))\n",
    "M = sym.Matrix([[ce.coeff(theta1d**2),        ce.coeff(theta1d*theta2d)/2],\n",
    "                [ce.coeff(theta1d*theta2d)/2, ce.coeff(theta2d**2)]])\n",
    "M"
   ]
  },
  {
   "cell_type": "markdown",
   "metadata": {},
   "source": [
    "#### Coriolus / centrifugal matrix, $C(q,\\dot{q})$\n",
    "\n",
    "Each element $c_{kj} $ in $C(q,\\dot{q})$ is given by\n",
    "$$\n",
    "c_{kj} \n",
    "= \\sum_{i=1}^n \\Gamma_{kji} \\dot{q}_i\n",
    "= \\sum_{i=1}^n \\frac{1}{2} \\left( \\frac{\\partial m_{kj}}{\\partial q_i} + \\frac{\\partial m_{ki}}{\\partial q_j} - \\frac{\\partial m_{ij}}{\\partial q_k} \\right) \\dot{q}_i\n",
    "$$\n",
    "where $ \\Gamma_{kji}$ are *Christoffel symbols of the first kind*\n",
    "\n",
    "$N(q,\\dot{q}) = \\dot{M}(q) - 2 C(q,\\dot{q}) \\in \\mathbb{R}^{n \\times n}$ is a skew-symmetric matrix; that is $x^T N x = 0$"
   ]
  },
  {
   "cell_type": "code",
   "execution_count": 14,
   "metadata": {
    "scrolled": false
   },
   "outputs": [
    {
     "data": {
      "image/png": "[encoded data removed]",
      "text/latex": [
       "$$\\left[\\begin{matrix}- a_{1} l_{2} m_{l_2} \\operatorname{sin}\\left(\\vartheta_{2}\\right) \\dot{\\vartheta}_{2} & - a_{1} l_{2} m_{l_2} \\left(\\dot{\\vartheta}_{1} + \\dot{\\vartheta}_{2}\\right) \\operatorname{sin}\\left(\\vartheta_{2}\\right)\\\\a_{1} l_{2} m_{l_2} \\operatorname{sin}\\left(\\vartheta_{2}\\right) \\dot{\\vartheta}_{1} & 0\\end{matrix}\\right]$$"
      ],
      "text/plain": [
       "⎡-a₁⋅l₂⋅m_{l_2}⋅sin(vartheta₂)⋅vartḣeta₂  -a₁⋅l₂⋅m_{l_2}⋅(vartḣeta₁ + vartḣ\n",
       "⎢                                                                             \n",
       "⎣a₁⋅l₂⋅m_{l_2}⋅sin(vartheta₂)⋅vartḣeta₁                              0       \n",
       "\n",
       "eta₂)⋅sin(vartheta₂)⎤\n",
       "                    ⎥\n",
       "                    ⎦"
      ]
     },
     "execution_count": 14,
     "metadata": {},
     "output_type": "execute_result"
    }
   ],
   "source": [
    "C = sym.zeros(2)\n",
    "\n",
    "for k in range(2):\n",
    "    for j in range(2):\n",
    "        for i in range(2):\n",
    "            C[k,j] += sym.Rational(1, 2) * (sym.diff(M[k,j], q[i]) + sym.diff(M[k,i], q[j]) - sym.diff(M[i,j], q[k])) * qd[i]\n",
    "\n",
    "C.simplify()\n",
    "C"
   ]
  },
  {
   "cell_type": "code",
   "execution_count": 15,
   "metadata": {},
   "outputs": [
    {
     "data": {
      "image/png": "[encoded data removed]",
      "text/latex": [
       "$$\\left[\\begin{matrix}0 & a_{1} l_{2} m_{l_2} \\left(2 \\dot{\\vartheta}_{1} + \\dot{\\vartheta}_{2}\\right) \\operatorname{sin}\\left(\\vartheta_{2}\\right)\\\\- a_{1} l_{2} m_{l_2} \\left(2 \\dot{\\vartheta}_{1} + \\dot{\\vartheta}_{2}\\right) \\operatorname{sin}\\left(\\vartheta_{2}\\right) & 0\\end{matrix}\\right]$$"
      ],
      "text/plain": [
       "⎡                            0                              a₁⋅l₂⋅m_{l_2}⋅(2⋅v\n",
       "⎢                                                                             \n",
       "⎣-a₁⋅l₂⋅m_{l_2}⋅(2⋅vartḣeta₁ + vartḣeta₂)⋅sin(vartheta₂)                    \n",
       "\n",
       "artḣeta₁ + vartḣeta₂)⋅sin(vartheta₂)⎤\n",
       "                                      ⎥\n",
       "         0                            ⎦"
      ]
     },
     "execution_count": 15,
     "metadata": {},
     "output_type": "execute_result"
    }
   ],
   "source": [
    "N = sym.diff(M, t) - 2*C\n",
    "N.simplify()\n",
    "N"
   ]
  },
  {
   "cell_type": "code",
   "execution_count": 16,
   "metadata": {
    "scrolled": true
   },
   "outputs": [
    {
     "data": {
      "image/png": "[encoded data removed]",
      "text/latex": [
       "$$\\left[\\begin{matrix}0 & 0\\\\0 & 0\\end{matrix}\\right]$$"
      ],
      "text/plain": [
       "⎡0  0⎤\n",
       "⎢    ⎥\n",
       "⎣0  0⎦"
      ]
     },
     "execution_count": 16,
     "metadata": {},
     "output_type": "execute_result"
    }
   ],
   "source": [
    "sym.simplify(-N - N.T)"
   ]
  },
  {
   "cell_type": "markdown",
   "metadata": {},
   "source": [
    "### Potential energy\n",
    "The potential energy can be expressed as a functions of the positions of the centers of mass. For the whole manipulator, this is\n",
    "$$\n",
    "V = \\sum_{i=1}^n \\mathbf{g}^T \\mathbf{p}_{COM_i} m_i\n",
    "$$"
   ]
  },
  {
   "cell_type": "code",
   "execution_count": 17,
   "metadata": {},
   "outputs": [],
   "source": [
    "V = (g.T * T0com1[:3,3] * ml1) + (g.T * T0com2[:3,3] * ml2)"
   ]
  },
  {
   "cell_type": "markdown",
   "metadata": {},
   "source": [
    "From the potiential energy we can set up a gravity function $g(\\mathbf{q})$ as"
   ]
  },
  {
   "cell_type": "markdown",
   "metadata": {},
   "source": [
    "$$\n",
    "g_i(\\mathbf{q}) = \\frac{\\partial V(\\mathbf{q})}{\\partial q_i} \\\\\n",
    "g(\\mathbf{q}) = [g_i, \\dots g_n]^T\n",
    "$$\n",
    "\n",
    "This is in effect the same as the mass of each link multiplied by its Jacobian, multiplied by the force of gravity, summed over each link\n",
    "$$\n",
    "g(\\mathbf{q}) = \\sum_{i=0}^n  J_{v_i}^T m_i \\mathbf{g}\n",
    "$$"
   ]
  },
  {
   "cell_type": "code",
   "execution_count": 18,
   "metadata": {
    "scrolled": true
   },
   "outputs": [],
   "source": [
    "gq = sym.Matrix([sym.diff(V, theta) for theta in q])\n",
    "#gq = Jcom1[:3,:].T * (ml1 * g) + Jcom2[:3,:].T * (ml2 * g)"
   ]
  },
  {
   "cell_type": "markdown",
   "metadata": {},
   "source": [
    "## Dynamic model simulation"
   ]
  },
  {
   "cell_type": "code",
   "execution_count": 19,
   "metadata": {
    "scrolled": true
   },
   "outputs": [],
   "source": [
    "import numpy as np\n",
    "import matplotlib.pyplot as plt\n",
    "from scipy.integrate import odeint\n",
    "from sympy.utilities.iterables import flatten"
   ]
  },
  {
   "cell_type": "markdown",
   "metadata": {},
   "source": [
    "The dynamic model (Euler-Lagrange equations) of the manipulator is\n",
    "$$\n",
    "M(q) \\ddot{q} + C(q,\\dot{q}) \\dot{q} + D \\dot{q} + g(q) = \\tau\n",
    "$$\n",
    "\n",
    "Make into system of ODEs by introducing variables\n",
    "\\begin{align*}\n",
    "y_0 &= q \\\\\n",
    "y_1 &= \\dot{q}\n",
    "\\end{align*}\n",
    "\n",
    "Differentiating gives\n",
    "\\begin{align*}\n",
    "y_0' &= \\dot{q} = y_1 \\\\\n",
    "y_1' &= \\ddot{q} = M^{-1}(q)  \\big(-C(q,\\dot{q}) \\dot{q} - D \\dot{q} - g(q) + \\tau \\big)\n",
    "\\end{align*}\n",
    "\n",
    "Thus the diff. eq. becomes\n",
    "$$\n",
    "\\frac{d\\mathbf{y}}{dt} = \n",
    "$$"
   ]
  },
  {
   "cell_type": "code",
   "execution_count": 20,
   "metadata": {},
   "outputs": [],
   "source": [
    "# Friction\n",
    "#D = sym.diag(15, 15)\n",
    "D = sym.diag(0, 0)"
   ]
  },
  {
   "cell_type": "code",
   "execution_count": 21,
   "metadata": {
    "scrolled": false
   },
   "outputs": [
    {
     "data": {
      "image/png": "[encoded data removed]",
      "text/latex": [
       "$$\\left [ \\vartheta_{1}, \\quad \\vartheta_{2}, \\quad \\dot{\\vartheta}_{1}, \\quad \\dot{\\vartheta}_{2}, \\quad \\tau_{1}, \\quad \\tau_{2}\\right ]$$"
      ],
      "text/plain": [
       "[vartheta₁, vartheta₂, vartḣeta₁, vartḣeta₂, τ₁, τ₂]"
      ]
     },
     "execution_count": 21,
     "metadata": {},
     "output_type": "execute_result"
    }
   ],
   "source": [
    "# Because lambdify seemingly can't handle substituting functions and their time derivatives\n",
    "# at the same time, I manually replace time-varying functions with dummy symbols.\n",
    "\n",
    "# In/outputs are flattened lists (as opposed to being lists of vectors).\n",
    "\n",
    "dynamics = flatten([q, qd, tau])\n",
    "dummy_symbols = [sym.Dummy() for e in dynamics]\n",
    "dummy_dict = dict(zip(dynamics, dummy_symbols))\n",
    "\n",
    "y1d_expr = (M.inv() * (-C*qd - D*qd - gq + tau)).subs(numeric_values).subs(dummy_dict)\n",
    "y1d_eval = sym.lambdify(dummy_symbols, y1d_expr)\n",
    "\n",
    "dynamics"
   ]
  },
  {
   "cell_type": "code",
   "execution_count": 22,
   "metadata": {},
   "outputs": [],
   "source": [
    "def dydt(y, t):\n",
    "    q_ = y[0:2]\n",
    "    qd_ = y[2:4]\n",
    "    tau_ = [0, 0]\n",
    "    \n",
    "    y0d = qd_\n",
    "    y1d = y1d_eval(*flatten([q_, qd_, tau_]))\n",
    "    \n",
    "    return flatten([y0d, y1d])"
   ]
  },
  {
   "cell_type": "code",
   "execution_count": 23,
   "metadata": {},
   "outputs": [],
   "source": [
    "y0 = flatten([[0, 0], [0, 0]])  # Initial conditions\n",
    "ts = np.linspace(0, 20, 2000)  # Time vector\n",
    "y = odeint(dydt, y0, ts)"
   ]
  },
  {
   "cell_type": "code",
   "execution_count": 24,
   "metadata": {},
   "outputs": [
    {
     "data": {
      "image/png": "[encoded data removed]",
      "text/plain": [
       "<Figure size 1080x648 with 2 Axes>"
      ]
     },
     "metadata": {},
     "output_type": "display_data"
    }
   ],
   "source": [
    "labels = ['${}$'.format(sym.physics.vector.vlatex(s)) for s in dynamics]\n",
    "fig, (ax1, ax2) = plt.subplots(2, figsize=(15,9))\n",
    "\n",
    "ax1.plot(ts, y[:,0:2])\n",
    "ax1.set_ylabel('Position [rad]')\n",
    "ax1.set_xlabel('Time [sec]')\n",
    "ticks_loc = np.linspace(-1, 0.5, 7)\n",
    "ax1.set_yticks([x*np.pi for x in ticks_loc])\n",
    "ax1.set_yticklabels(['${}\\pi$'.format(x) for x in ticks_loc])\n",
    "ax1.legend(labels[0:2], loc='upper right')\n",
    "\n",
    "ax2.plot(ts, y[:,2:4])\n",
    "ax2.set_ylabel('Velocity [rad/s]')\n",
    "ax2.set_xlabel('Time [sec]')\n",
    "ticks_loc = np.linspace(-2, 3, 6)\n",
    "ax2.set_yticks([x*np.pi for x in ticks_loc])\n",
    "ax2.set_yticklabels(['${}\\pi$'.format(x) for x in ticks_loc])\n",
    "ax2.legend(labels[2:4], loc='upper right')\n",
    "\n",
    "plt.show()"
   ]
  },
  {
   "cell_type": "markdown",
   "metadata": {},
   "source": [
    "## Animate"
   ]
  },
  {
   "cell_type": "code",
   "execution_count": 25,
   "metadata": {
    "scrolled": true
   },
   "outputs": [],
   "source": [
    "def animate(ts, y):\n",
    "    from matplotlib import animation\n",
    "\n",
    "    # Evaluate x,y translational part of transforms given 'q'\n",
    "    point_eval = (sym.lambdify(q, T01[0:2,3].subs(numeric_values)),\n",
    "                  sym.lambdify(q, T02[0:2,3].subs(numeric_values)), \n",
    "                  sym.lambdify(q, T03[0:2,3].subs(numeric_values)))\n",
    "\n",
    "    fig = plt.figure()\n",
    "    ax = plt.axes(xlim=(-2, 2), ylim=(-2, 2), aspect='equal')\n",
    "    time_text = ax.text(0.85, 0.9, '', transform=ax.transAxes)\n",
    "\n",
    "    lines = []\n",
    "    for i in range(2):\n",
    "        l, = ax.plot([], [], lw=2)\n",
    "        lines.append(l)\n",
    "\n",
    "    def anim_init():\n",
    "        time_text.set_text('')\n",
    "        for l in lines:\n",
    "            l.set_data([], [])\n",
    "        return (*lines, time_text)\n",
    "\n",
    "    def anim_step(i):\n",
    "        time_text.set_text('{:2.2f} s'.format(ts[i]))\n",
    "        for k in range(2):\n",
    "            p_start = point_eval[k](*y[i,0:2]).flatten()\n",
    "            p_end = point_eval[k+1](*y[i,0:2]).flatten()\n",
    "            xs = [p_start[0], p_end[0]]\n",
    "            ys = [p_start[1], p_end[1]]\n",
    "            lines[k].set_data(xs, ys)\n",
    "        return (*lines, time_text)\n",
    "\n",
    "    anim = animation.FuncAnimation(fig, anim_step, init_func=anim_init, frames=len(ts), blit=True)\n",
    "    anim.save('animation.mp4', fps=30, extra_args=['-vcodec', 'libx264'])\n",
    "\n",
    "#animate(ts, y)"
   ]
  },
  {
   "cell_type": "code",
   "execution_count": 26,
   "metadata": {
    "scrolled": true
   },
   "outputs": [
    {
     "data": {
      "text/html": [
       "\n",
       "<video width=\"440\" height=\"320\" controls>\n",
       "  <source src=\"animation.mp4\" type=\"video/mp4\">\n",
       "</video>\n"
      ],
      "text/plain": [
       "<IPython.core.display.HTML object>"
      ]
     },
     "execution_count": 26,
     "metadata": {},
     "output_type": "execute_result"
    }
   ],
   "source": [
    "from IPython.display import HTML\n",
    "\n",
    "HTML(\"\"\"\n",
    "<video width=\"440\" height=\"320\" controls>\n",
    "  <source src=\"animation.mp4\" type=\"video/mp4\">\n",
    "</video>\n",
    "\"\"\")"
   ]
  },
  {
   "cell_type": "markdown",
   "metadata": {},
   "source": [
    "## Linearity of the dynamic model"
   ]
  },
  {
   "cell_type": "markdown",
   "metadata": {},
   "source": [
    "The system (without friction)\n",
    "$$\n",
    "M(q) \\ddot{q} + C(q,\\dot{q}) \\dot{q} + g(q) = \\tau\n",
    "$$\n",
    "can be written as\n",
    "$$\n",
    "\\tau = Y(q, \\dot{q}, \\ddot{q}) \\phi\n",
    "$$\n",
    "where $Y$ is the regressor depending on joint positions, velocities and accelerations and $\\phi$ is the parameter vector of dynamic coefficients."
   ]
  },
  {
   "cell_type": "code",
   "execution_count": 27,
   "metadata": {
    "scrolled": true
   },
   "outputs": [
    {
     "data": {
      "image/png": "[encoded data removed]",
      "text/latex": [
       "$$I_{1_{zz}} + I_{2_{zz}} + a_{1}^{2} m_{l_2} + 2 a_{1} l_{2} m_{l_2} \\operatorname{cos}\\left(\\vartheta_{2}\\right) + l_{1}^{2} m_{l_1} + l_{2}^{2} m_{l_2}$$"
      ],
      "text/plain": [
       "                            2                                              2  \n",
       "I_{1_{zz}} + I_{2_{zz}} + a₁ ⋅m_{l_2} + 2⋅a₁⋅l₂⋅m_{l_2}⋅cos(vartheta₂) + l₁ ⋅m\n",
       "\n",
       "           2        \n",
       "_{l_1} + l₂ ⋅m_{l_2}"
      ]
     },
     "execution_count": 27,
     "metadata": {},
     "output_type": "execute_result"
    }
   ],
   "source": [
    "M[0,0]"
   ]
  },
  {
   "cell_type": "code",
   "execution_count": 28,
   "metadata": {},
   "outputs": [
    {
     "data": {
      "image/png": "[encoded data removed]",
      "text/latex": [
       "$$I_{2_{zz}} + a_{1} l_{2} m_{l_2} \\operatorname{cos}\\left(\\vartheta_{2}\\right) + l_{2}^{2} m_{l_2}$$"
      ],
      "text/plain": [
       "                                              2        \n",
       "I_{2_{zz}} + a₁⋅l₂⋅m_{l_2}⋅cos(vartheta₂) + l₂ ⋅m_{l_2}"
      ]
     },
     "execution_count": 28,
     "metadata": {},
     "output_type": "execute_result"
    }
   ],
   "source": [
    "M[1,0]  # equal to M[0,1]"
   ]
  },
  {
   "cell_type": "code",
   "execution_count": 29,
   "metadata": {
    "scrolled": true
   },
   "outputs": [
    {
     "data": {
      "image/png": "[encoded data removed]",
      "text/latex": [
       "$$I_{2_{zz}} + l_{2}^{2} m_{l_2}$$"
      ],
      "text/plain": [
       "               2        \n",
       "I_{2_{zz}} + l₂ ⋅m_{l_2}"
      ]
     },
     "execution_count": 29,
     "metadata": {},
     "output_type": "execute_result"
    }
   ],
   "source": [
    "M[1,1]"
   ]
  },
  {
   "cell_type": "code",
   "execution_count": 30,
   "metadata": {},
   "outputs": [
    {
     "data": {
      "image/png": "[encoded data removed]",
      "text/latex": [
       "$$\\left[\\begin{matrix}- a_{1} l_{2} m_{l_2} \\left(\\dot{\\vartheta}_{1} + \\dot{\\vartheta}_{2}\\right) \\operatorname{sin}\\left(\\vartheta_{2}\\right) \\dot{\\vartheta}_{2} - a_{1} l_{2} m_{l_2} \\operatorname{sin}\\left(\\vartheta_{2}\\right) \\dot{\\vartheta}_{1} \\dot{\\vartheta}_{2} - l_{1} m_{l_1} \\left(g_{x} \\operatorname{sin}\\left(\\vartheta_{1}\\right) - g_{y} \\operatorname{cos}\\left(\\vartheta_{1}\\right)\\right) - m_{l_2} \\left(g_{x} \\left(a_{1} \\operatorname{sin}\\left(\\vartheta_{1}\\right) + l_{2} \\operatorname{sin}\\left(\\vartheta_{1} + \\vartheta_{2}\\right)\\right) - g_{y} \\left(a_{1} \\operatorname{cos}\\left(\\vartheta_{1}\\right) + l_{2} \\operatorname{cos}\\left(\\vartheta_{1} + \\vartheta_{2}\\right)\\right)\\right) + \\left(I_{2_{zz}} + a_{1} l_{2} m_{l_2} \\operatorname{cos}\\left(\\vartheta_{2}\\right) + l_{2}^{2} m_{l_2}\\right) \\ddot{\\vartheta}_{2} + \\left(I_{1_{zz}} + I_{2_{zz}} + a_{1}^{2} m_{l_2} + 2 a_{1} l_{2} m_{l_2} \\operatorname{cos}\\left(\\vartheta_{2}\\right) + l_{1}^{2} m_{l_1} + l_{2}^{2} m_{l_2}\\right) \\ddot{\\vartheta}_{1}\\\\a_{1} l_{2} m_{l_2} \\operatorname{sin}\\left(\\vartheta_{2}\\right) \\dot{\\vartheta}_{1}^{2} - l_{2} m_{l_2} \\left(g_{x} \\operatorname{sin}\\left(\\vartheta_{1} + \\vartheta_{2}\\right) - g_{y} \\operatorname{cos}\\left(\\vartheta_{1} + \\vartheta_{2}\\right)\\right) + \\left(I_{2_{zz}} + l_{2}^{2} m_{l_2}\\right) \\ddot{\\vartheta}_{2} + \\left(I_{2_{zz}} + a_{1} l_{2} m_{l_2} \\operatorname{cos}\\left(\\vartheta_{2}\\right) + l_{2}^{2} m_{l_2}\\right) \\ddot{\\vartheta}_{1}\\end{matrix}\\right]$$"
      ],
      "text/plain": [
       "⎡                                                                             \n",
       "⎢-a₁⋅l₂⋅m_{l_2}⋅(vartḣeta₁ + vartḣeta₂)⋅sin(vartheta₂)⋅vartḣeta₂ - a₁⋅l₂⋅m_\n",
       "⎢                                                                             \n",
       "⎢                                                                             \n",
       "⎣                                                                             \n",
       "\n",
       "                                                                              \n",
       "{l_2}⋅sin(vartheta₂)⋅vartḣeta₁⋅vartḣeta₂ - l₁⋅m_{l_1}⋅(gₓ⋅sin(vartheta₁) - g\n",
       "                                                                              \n",
       "                                                                              \n",
       "                                                  a₁⋅l₂⋅m_{l_2}⋅sin(vartheta₂)\n",
       "\n",
       "                                                                              \n",
       "_y⋅cos(vartheta₁)) - m_{l_2}⋅(gₓ⋅(a₁⋅sin(vartheta₁) + l₂⋅sin(vartheta₁ + varth\n",
       "                                                                              \n",
       "           2                                                                  \n",
       "⋅vartḣeta₁  - l₂⋅m_{l_2}⋅(gₓ⋅sin(vartheta₁ + vartheta₂) - g_y⋅cos(vartheta₁ +\n",
       "\n",
       "                                                                    ⎛         \n",
       "eta₂)) - g_y⋅(a₁⋅cos(vartheta₁) + l₂⋅cos(vartheta₁ + vartheta₂))) + ⎝I_{2_{zz}\n",
       "                                                                              \n",
       "               ⎛               2        ⎞              ⎛                      \n",
       " vartheta₂)) + ⎝I_{2_{zz}} + l₂ ⋅m_{l_2}⎠⋅vartḧeta₂ + ⎝I_{2_{zz}} + a₁⋅l₂⋅m_{\n",
       "\n",
       "                                     2        ⎞              ⎛                \n",
       "} + a₁⋅l₂⋅m_{l_2}⋅cos(vartheta₂) + l₂ ⋅m_{l_2}⎠⋅vartḧeta₂ + ⎝I_{1_{zz}} + I_{\n",
       "                                                                              \n",
       "                        2        ⎞                                            \n",
       "l_2}⋅cos(vartheta₂) + l₂ ⋅m_{l_2}⎠⋅vartḧeta₁                                 \n",
       "\n",
       "            2                                              2             2    \n",
       "2_{zz}} + a₁ ⋅m_{l_2} + 2⋅a₁⋅l₂⋅m_{l_2}⋅cos(vartheta₂) + l₁ ⋅m_{l_1} + l₂ ⋅m_{\n",
       "                                                                              \n",
       "                                                                              \n",
       "                                                                              \n",
       "\n",
       "    ⎞           ⎤\n",
       "l_2}⎠⋅vartḧeta₁⎥\n",
       "                ⎥\n",
       "                ⎥\n",
       "                ⎦"
      ]
     },
     "execution_count": 30,
     "metadata": {},
     "output_type": "execute_result"
    }
   ],
   "source": [
    "tau_test1 = M*qdd + C*qd + gq\n",
    "tau_test1.simplify()\n",
    "tau_test1"
   ]
  },
  {
   "cell_type": "code",
   "execution_count": 31,
   "metadata": {
    "scrolled": true
   },
   "outputs": [
    {
     "data": {
      "image/png": "[encoded data removed]",
      "text/latex": [
       "$$\\left[\\begin{matrix}l_{1} m_{l_1}\\\\I_{1_{zz}} + l_{1}^{2} m_{l_1}\\\\m_{l_2}\\\\l_{2} m_{l_2}\\\\I_{2_{zz}} + l_{2}^{2} m_{l_2}\\end{matrix}\\right]$$"
      ],
      "text/plain": [
       "⎡       l₁⋅m_{l_1}       ⎤\n",
       "⎢                        ⎥\n",
       "⎢               2        ⎥\n",
       "⎢I_{1_{zz}} + l₁ ⋅m_{l_1}⎥\n",
       "⎢                        ⎥\n",
       "⎢        m_{l_2}         ⎥\n",
       "⎢                        ⎥\n",
       "⎢       l₂⋅m_{l_2}       ⎥\n",
       "⎢                        ⎥\n",
       "⎢               2        ⎥\n",
       "⎣I_{2_{zz}} + l₂ ⋅m_{l_2}⎦"
      ]
     },
     "execution_count": 31,
     "metadata": {},
     "output_type": "execute_result"
    }
   ],
   "source": [
    "Il1zz = Il1[2,2]\n",
    "Il2zz = Il2[2,2]\n",
    "\n",
    "phi = sym.Matrix([\n",
    "    ml1*l1,\n",
    "    ml1*l1**2 + Il1zz,\n",
    "    ml2,\n",
    "    ml2*l2,\n",
    "    ml2*l2**2 + Il2zz,\n",
    "])\n",
    "\n",
    "phi"
   ]
  },
  {
   "cell_type": "code",
   "execution_count": 32,
   "metadata": {
    "scrolled": true
   },
   "outputs": [
    {
     "data": {
      "image/png": "[encoded data removed]",
      "text/latex": [
       "$$\\left[\\begin{matrix}g_{y} \\operatorname{cos}\\left(\\vartheta_{1}\\right) & \\ddot{\\vartheta}_{1} & a_{1}^{2} \\ddot{\\vartheta}_{1} + a_{1} g_{y} \\operatorname{cos}\\left(\\vartheta_{1}\\right) & - a_{1} \\left(2 \\dot{\\vartheta}_{1} \\dot{\\vartheta}_{2} + \\dot{\\vartheta}_{2}^{2}\\right) \\operatorname{sin}\\left(\\vartheta_{2}\\right) + a_{1} \\left(2 \\ddot{\\vartheta}_{1} + \\ddot{\\vartheta}_{2}\\right) \\operatorname{cos}\\left(\\vartheta_{2}\\right) + g_{y} \\operatorname{cos}\\left(\\vartheta_{1} + \\vartheta_{2}\\right) & \\ddot{\\vartheta}_{1} + \\ddot{\\vartheta}_{2}\\\\0 & 0 & 0 & a_{1} \\operatorname{sin}\\left(\\vartheta_{2}\\right) \\dot{\\vartheta}_{1}^{2} + a_{1} \\operatorname{cos}\\left(\\vartheta_{2}\\right) \\ddot{\\vartheta}_{1} + g_{y} \\operatorname{cos}\\left(\\vartheta_{1} + \\vartheta_{2}\\right) & \\ddot{\\vartheta}_{1} + \\ddot{\\vartheta}_{2}\\end{matrix}\\right]$$"
      ],
      "text/plain": [
       "⎡                                  2                                          \n",
       "⎢g_y⋅cos(vartheta₁)  vartḧeta₁  a₁ ⋅vartḧeta₁ + a₁⋅g_y⋅cos(vartheta₁)  - a₁⋅\n",
       "⎢                                                                             \n",
       "⎢                                                                             \n",
       "⎣        0               0                         0                          \n",
       "\n",
       "⎛                                    2⎞                                       \n",
       "⎝2⋅vartḣeta₁⋅vartḣeta₂ + vartḣeta₂ ⎠⋅sin(vartheta₂) + a₁⋅(2⋅vartḧeta₁ + va\n",
       "                                                                              \n",
       "                                              2                               \n",
       "                  a₁⋅sin(vartheta₂)⋅vartḣeta₁  + a₁⋅cos(vartheta₂)⋅vartḧeta₁\n",
       "\n",
       "                                                                              \n",
       "rtḧeta₂)⋅cos(vartheta₂) + g_y⋅cos(vartheta₁ + vartheta₂)  vartḧeta₁ + vartḧ\n",
       "                                                                              \n",
       "                                                                              \n",
       " + g_y⋅cos(vartheta₁ + vartheta₂)                          vartḧeta₁ + vartḧ\n",
       "\n",
       "    ⎤\n",
       "eta₂⎥\n",
       "    ⎥\n",
       "    ⎥\n",
       "eta₂⎦"
      ]
     },
     "execution_count": 32,
     "metadata": {},
     "output_type": "execute_result"
    }
   ],
   "source": [
    "gx, gy, gz = g\n",
    "\n",
    "Y = sym.zeros(2, 5)\n",
    "Y[0,0] = gy * sym.cos(theta1)\n",
    "Y[0,1] = theta1dd\n",
    "Y[0,2] = a1**2*theta1dd + a1*gy*sym.cos(theta1)\n",
    "Y[0,3] = a1*sym.cos(theta2)*(2*theta1dd + theta2dd) - a1*sym.sin(theta2)*(2*theta1d*theta2d + theta2d**2) + gy*sym.cos(theta1+theta2)\n",
    "Y[0,4] = theta1dd + theta2dd\n",
    "Y[1,3] = a1*sym.cos(theta2)*theta1dd + a1*sym.sin(theta2)*theta1d**2 + gy*sym.cos(theta1 + theta2)\n",
    "Y[1,4] = theta1dd + theta2dd\n",
    "\n",
    "Y"
   ]
  },
  {
   "cell_type": "markdown",
   "metadata": {},
   "source": [
    "Test that they do in fact end up giving the same $\\tau$"
   ]
  },
  {
   "cell_type": "code",
   "execution_count": 33,
   "metadata": {
    "scrolled": true
   },
   "outputs": [],
   "source": [
    "tau_test2 = Y*phi"
   ]
  },
  {
   "cell_type": "code",
   "execution_count": 34,
   "metadata": {
    "scrolled": true
   },
   "outputs": [
    {
     "data": {
      "image/png": "[encoded data removed]",
      "text/latex": [
       "$$\\left[\\begin{matrix}0\\\\0\\end{matrix}\\right]$$"
      ],
      "text/plain": [
       "⎡0⎤\n",
       "⎢ ⎥\n",
       "⎣0⎦"
      ]
     },
     "execution_count": 34,
     "metadata": {},
     "output_type": "execute_result"
    }
   ],
   "source": [
    "sym.simplify(tau_test2 - tau_test1.subs({gx:0}))"
   ]
  },
  {
   "cell_type": "markdown",
   "metadata": {},
   "source": [
    "## Parameter estimation"
   ]
  },
  {
   "cell_type": "code",
   "execution_count": null,
   "metadata": {},
   "outputs": [],
   "source": []
  }
 ],
 "metadata": {
  "kernelspec": {
   "display_name": "Python 3",
   "language": "python",
   "name": "python3"
  },
  "language_info": {
   "codemirror_mode": {
    "name": "ipython",
    "version": 3
   },
   "file_extension": ".py",
   "mimetype": "text/x-python",
   "name": "python",
   "nbconvert_exporter": "python",
   "pygments_lexer": "ipython3",
   "version": "3.5.2"
  }
 },
 "nbformat": 4,
 "nbformat_minor": 2
}
